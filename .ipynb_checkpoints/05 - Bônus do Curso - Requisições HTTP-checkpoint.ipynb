{
 "cells": [
  {
   "cell_type": "markdown",
   "metadata": {},
   "source": [
    "# Montar um APP de Previsão do Tempo"
   ]
  },
  {
   "cell_type": "code",
   "execution_count": 1,
   "metadata": {},
   "outputs": [],
   "source": [
    "#!pip install requests"
   ]
  },
  {
   "cell_type": "code",
   "execution_count": 2,
   "metadata": {},
   "outputs": [],
   "source": [
    "#!pip install --upgrade pip"
   ]
  },
  {
   "cell_type": "code",
   "execution_count": 3,
   "metadata": {},
   "outputs": [],
   "source": [
    "#!pip install --upgrade pandas"
   ]
  },
  {
   "cell_type": "code",
   "execution_count": 13,
   "metadata": {},
   "outputs": [],
   "source": [
    "import pprint"
   ]
  },
  {
   "cell_type": "code",
   "execution_count": 18,
   "metadata": {},
   "outputs": [],
   "source": [
    "accuweatherAPIKey = 'OoyICn3M24FPxGyR0sKbsfF3LIWSK5ob'"
   ]
  },
  {
   "cell_type": "code",
   "execution_count": 9,
   "metadata": {},
   "outputs": [],
   "source": [
    "import requests\n",
    "\n",
    "import json"
   ]
  },
  {
   "cell_type": "code",
   "execution_count": 5,
   "metadata": {},
   "outputs": [
    {
     "data": {
      "text/plain": [
       "200"
      ]
     },
     "execution_count": 5,
     "metadata": {},
     "output_type": "execute_result"
    }
   ],
   "source": [
    "r = requests.get('https://www.google.com')\n",
    "\n",
    "r.status_code"
   ]
  },
  {
   "cell_type": "code",
   "execution_count": 6,
   "metadata": {},
   "outputs": [
    {
     "data": {
      "text/plain": [
       "{'Date': 'Sun, 26 Dec 2021 12:25:38 GMT', 'Expires': '-1', 'Cache-Control': 'private, max-age=0', 'Content-Type': 'text/html; charset=ISO-8859-1', 'P3P': 'CP=\"This is not a P3P policy! See g.co/p3phelp for more info.\"', 'Content-Encoding': 'gzip', 'Server': 'gws', 'X-XSS-Protection': '0', 'X-Frame-Options': 'SAMEORIGIN', 'Set-Cookie': '1P_JAR=2021-12-26-12; expires=Tue, 25-Jan-2022 12:25:38 GMT; path=/; domain=.google.com; Secure, NID=511=Q3UWbKIrgg2iJSyBmLG-YRGy26XjmGfSdWUpS-Am3mNKbr8YyYbwGLTDWu6Ur0uGc1yTUsN-7nLhR1hkWTqxveebgwiPXQmTcZC9ovikogb_Utzj7Pz4sXmqBRi3L20JbyeZmqIc22FEeHQ-MmN_Yq1p7vF3syb2uE5IV4o6j7c; expires=Mon, 27-Jun-2022 12:25:38 GMT; path=/; domain=.google.com; HttpOnly', 'Alt-Svc': 'h3=\":443\"; ma=2592000,h3-29=\":443\"; ma=2592000,h3-Q050=\":443\"; ma=2592000,h3-Q046=\":443\"; ma=2592000,h3-Q043=\":443\"; ma=2592000,quic=\":443\"; ma=2592000; v=\"46,43\"', 'Transfer-Encoding': 'chunked'}"
      ]
     },
     "execution_count": 6,
     "metadata": {},
     "output_type": "execute_result"
    }
   ],
   "source": [
    "r.headers"
   ]
  },
  {
   "cell_type": "code",
   "execution_count": 26,
   "metadata": {},
   "outputs": [
    {
     "name": "stdout",
     "output_type": "stream",
     "text": [
      "Obtendo Clima do local:  Campinas, São Paulo. Brasil\n",
      "Código:  45883\n",
      "Clima no momento:  Parcialmente ensolarado\n",
      "Temperatura no local:  27.2\n"
     ]
    }
   ],
   "source": [
    "# requisição de API - localização - 1a arte será fazer uma requisição da localização do usuário automaticamente\n",
    "\n",
    "r = requests.get('http://www.geoplugin.net/json.gp')\n",
    "\n",
    "if (r.status_code != 200):\n",
    "    print('Não Foi possível obter a localização.')\n",
    "else:\n",
    "    localizacao = json.loads(r.text)\n",
    "    lat = localizacao['geoplugin_latitude']\n",
    "    long = localizacao['geoplugin_longitude']\n",
    "    \n",
    "    LocationAPIUrl = \"http://dataservice.accuweather.com/locations/v1/cities/geoposition/search?apikey=\" \\\n",
    "    + accuweatherAPIKey + \"&q=\" + lat +\"%2C%20\" + long + \"&language=pt-br\"\n",
    "    \n",
    "    \n",
    "    r2 = requests.get(LocationAPIUrl)\n",
    "    \n",
    "    if (r.status_code != 200):\n",
    "        print('Não Foi possível obter o código do local.')\n",
    "    else:\n",
    "        locationResponse = json.loads(r2.text)\n",
    "        nomeLocal = locationResponse['LocalizedName']+ \", \" + locationResponse['AdministrativeArea']['LocalizedName']+\". \"\\\n",
    "        + locationResponse['Country']['LocalizedName']\n",
    "        codigoLocal = locationResponse['Key']\n",
    "        print('Obtendo Clima do local: ', nomeLocal)\n",
    "        print('Código: ', codigoLocal)\n",
    "        \n",
    "        currentConditionAPIUrl = \"http://dataservice.accuweather.com/currentconditions/v1/\"\\\n",
    "        + codigoLocal + \"?apikey=\" + accuweatherAPIKey + \"\\\n",
    "        + &language=pt-br\"\n",
    "        \n",
    "        r3 = requests.get(currentConditionAPIUrl)\n",
    "        if (r3.status_code != 200):\n",
    "            print('Não foi possível obter o código do local.')\n",
    "        else:\n",
    "            CurrentConditionResponse = json.loads(r3.text)\n",
    "            textoClima = CurrentConditionResponse[0]['WeatherText']\n",
    "            temperatura = CurrentConditionResponse[0]['Temperature']['Metric']['Value']\n",
    "            print('Clima no momento: ', textoClima)\n",
    "            print('Temperatura no local: ', temperatura)"
   ]
  },
  {
   "cell_type": "code",
   "execution_count": 8,
   "metadata": {},
   "outputs": [],
   "source": [
    "# usar na localização e importar via outra API os dados do tempo para termos uma previsão atualizada"
   ]
  },
  {
   "cell_type": "code",
   "execution_count": null,
   "metadata": {},
   "outputs": [],
   "source": []
  }
 ],
 "metadata": {
  "kernelspec": {
   "display_name": "Python 3",
   "language": "python",
   "name": "python3"
  },
  "language_info": {
   "codemirror_mode": {
    "name": "ipython",
    "version": 3
   },
   "file_extension": ".py",
   "mimetype": "text/x-python",
   "name": "python",
   "nbconvert_exporter": "python",
   "pygments_lexer": "ipython3",
   "version": "3.8.5"
  }
 },
 "nbformat": 4,
 "nbformat_minor": 4
}
