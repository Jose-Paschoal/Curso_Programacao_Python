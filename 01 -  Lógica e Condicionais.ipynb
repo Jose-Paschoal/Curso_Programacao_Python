{
 "cells": [
  {
   "cell_type": "markdown",
   "metadata": {},
   "source": [
    "# Curso de Programação em Python"
   ]
  },
  {
   "cell_type": "code",
   "execution_count": 1,
   "metadata": {},
   "outputs": [
    {
     "data": {
      "text/plain": [
       "True"
      ]
     },
     "execution_count": 1,
     "metadata": {},
     "output_type": "execute_result"
    }
   ],
   "source": [
    "17 < 18"
   ]
  },
  {
   "cell_type": "code",
   "execution_count": 2,
   "metadata": {},
   "outputs": [
    {
     "data": {
      "text/plain": [
       "True"
      ]
     },
     "execution_count": 2,
     "metadata": {},
     "output_type": "execute_result"
    }
   ],
   "source": [
    "x = 17 < 18\n",
    "x"
   ]
  },
  {
   "cell_type": "code",
   "execution_count": 3,
   "metadata": {},
   "outputs": [
    {
     "name": "stdout",
     "output_type": "stream",
     "text": [
      "teste\n"
     ]
    }
   ],
   "source": [
    "idade = 18\n",
    "\n",
    "if idade >= 18:\n",
    "    print('teste')"
   ]
  },
  {
   "cell_type": "code",
   "execution_count": 4,
   "metadata": {},
   "outputs": [
    {
     "name": "stdout",
     "output_type": "stream",
     "text": [
      "digite a sua idade: 10\n",
      "a idade não é 18\n"
     ]
    }
   ],
   "source": [
    "# teste - if/elif/else\n",
    "\n",
    "idade = int(input('digite a sua idade: '))\n",
    "\n",
    "if idade == 18:\n",
    "    print('a idade é igual a 18')\n",
    "    \n",
    "else:\n",
    "    print('a idade não é 18')"
   ]
  },
  {
   "cell_type": "code",
   "execution_count": 5,
   "metadata": {},
   "outputs": [
    {
     "name": "stdout",
     "output_type": "stream",
     "text": [
      "digite a sua idade: 10\n",
      "a idade não é 18 e nem 17\n"
     ]
    }
   ],
   "source": [
    "# elif - serve para inserir outras condições: SENÃO SE\n",
    "\n",
    "idade = int(input('digite a sua idade: '))\n",
    "\n",
    "if idade == 18:\n",
    "    print('a idade é igual a 18')\n",
    "    \n",
    "elif idade == 17:\n",
    "    print('a idade é igual a 17')\n",
    "    \n",
    "else:\n",
    "    print('a idade não é 18 e nem 17')"
   ]
  },
  {
   "cell_type": "code",
   "execution_count": 6,
   "metadata": {},
   "outputs": [],
   "source": [
    "# operador 'diferente' é !="
   ]
  },
  {
   "cell_type": "code",
   "execution_count": 7,
   "metadata": {},
   "outputs": [
    {
     "name": "stdout",
     "output_type": "stream",
     "text": [
      "digite a sua idade: 10\n",
      "digite o sexo M ou F: m\n",
      "homem menor de idade\n"
     ]
    }
   ],
   "source": [
    "# teste com múltiplas condições\n",
    "\n",
    "idade = int(input('digite a sua idade: '))\n",
    "sexo = input('digite o sexo M ou F: ').lower()\n",
    "\n",
    "if idade < 18 and sexo == 'm':\n",
    "    print('homem menor de idade')\n",
    "    \n",
    "elif idade >= 18 and sexo == 'm':\n",
    "    print('homem maior de idade')\n",
    "    \n",
    "elif idade < 18 and sexo == 'f':\n",
    "    print('mulher menor de idade')\n",
    "    \n",
    "elif idade >= 18 and sexo == 'm':\n",
    "    print('mulher maior de idade')"
   ]
  },
  {
   "cell_type": "markdown",
   "metadata": {},
   "source": [
    "## Aninhamento de IF"
   ]
  },
  {
   "cell_type": "code",
   "execution_count": 8,
   "metadata": {},
   "outputs": [
    {
     "name": "stdout",
     "output_type": "stream",
     "text": [
      "digite a sua idade: 10\n",
      "digite o sexo M ou F: ,\n"
     ]
    }
   ],
   "source": [
    "idade = int(input('digite a sua idade: '))\n",
    "sexo = input('digite o sexo M ou F: ').lower()\n",
    "\n",
    "if sexo == 'm':\n",
    "    if idade < 18:\n",
    "        print('homem menor de idade')\n",
    "    else:\n",
    "        print('homem maior de idade')\n",
    "elif sexo =='f':\n",
    "    if idade < 18:\n",
    "        print('mulher menor de idade')\n",
    "    else:\n",
    "        print('mulher maior de idade')"
   ]
  },
  {
   "cell_type": "markdown",
   "metadata": {},
   "source": [
    "### Inserindo 'OR'"
   ]
  },
  {
   "cell_type": "code",
   "execution_count": 9,
   "metadata": {},
   "outputs": [
    {
     "name": "stdout",
     "output_type": "stream",
     "text": [
      "digite a sua idade: 10\n",
      "digite o sexo M ou F: m\n",
      "digite a cidade: araras\n"
     ]
    }
   ],
   "source": [
    "idade = int(input('digite a sua idade: '))\n",
    "sexo = input('digite o sexo M ou F: ').lower()\n",
    "cidade = input('digite a cidade: ').lower()\n",
    "\n",
    "if cidade =='rio' or cidade == 'sao paulo':\n",
    "    if sexo == 'm':\n",
    "        if idade < 18:\n",
    "            print('homem menor de idade')\n",
    "        else:\n",
    "            print('homem maior de idade')\n",
    "    elif sexo =='f':\n",
    "        if idade < 18:\n",
    "            print('mulher menor de idade')\n",
    "        else:\n",
    "            print('mulher maior de idade')\n"
   ]
  },
  {
   "cell_type": "code",
   "execution_count": 10,
   "metadata": {},
   "outputs": [
    {
     "name": "stdout",
     "output_type": "stream",
     "text": [
      "digite a sua idade: 10\n",
      "digite o sexo M ou F: m\n",
      "digite a cidade: araras\n",
      "teste apenas para cidades sudeste\n"
     ]
    }
   ],
   "source": [
    "# inserindo uma finalização para teste de apenas cidades de sudeste - rio e sao paulo\n",
    "\n",
    "idade = int(input('digite a sua idade: '))\n",
    "sexo = input('digite o sexo M ou F: ').lower()\n",
    "cidade = input('digite a cidade: ').lower()\n",
    "\n",
    "if cidade =='rio' or cidade == 'sao paulo':\n",
    "    if sexo == 'm':\n",
    "        if idade < 18:\n",
    "            print('homem menor de idade')\n",
    "        else:\n",
    "            print('homem maior de idade')\n",
    "    elif sexo =='f':\n",
    "        if idade < 18:\n",
    "            print('mulher menor de idade')\n",
    "        else:\n",
    "            print('mulher maior de idade')\n",
    "            \n",
    "else:\n",
    "    print('teste apenas para cidades sudeste')"
   ]
  },
  {
   "cell_type": "markdown",
   "metadata": {},
   "source": [
    "## Exercício utilizando Lógica"
   ]
  },
  {
   "cell_type": "code",
   "execution_count": 11,
   "metadata": {},
   "outputs": [
    {
     "name": "stdout",
     "output_type": "stream",
     "text": [
      "digite o nome do aluno: jose\n",
      "digite a nota da prova 1: 1\n",
      "digite a nota da prova 2: 2\n",
      "digite o total de faltas: 2\n",
      "Nome :  jose\n",
      "Média:  1.5\n",
      "Assiduidade:  0.9\n",
      "Resultado:  Reprovado por média\n"
     ]
    }
   ],
   "source": [
    "# criar um programa que o usuário insira nome, notas das provas e quantidade de faltas e faça um cálculo se aprovado ou não.\n",
    "\n",
    "# considerar 20 aulas dadas\n",
    "\n",
    "nome = input('digite o nome do aluno: ')\n",
    "nota1 = float(input('digite a nota da prova 1: '))\n",
    "nota2 = float(input('digite a nota da prova 2: '))\n",
    "faltas =  int(input('digite o total de faltas: '))\n",
    "\n",
    "media = (nota1 + nota2)/2\n",
    "\n",
    "assid = (20 - faltas)/20\n",
    "\n",
    "if media >= 6 and assid >= 0.7:\n",
    "    resultado = 'Aprovado'\n",
    "    \n",
    "elif media < 6 and assid < 0.7:\n",
    "    resultado = 'Reprovado por média e por faltas'\n",
    "    \n",
    "elif media < 6:\n",
    "    resultado = 'Reprovado por média'\n",
    "    \n",
    "elif assid < 0.7:\n",
    "    resultado = 'Reprovado por faltas'\n",
    "    \n",
    "else:\n",
    "    print('Erro')\n",
    "    \n",
    "print('Nome : ', nome)\n",
    "print('Média: ', media)\n",
    "print('Assiduidade: ', assid)\n",
    "print('Resultado: ', resultado)"
   ]
  },
  {
   "cell_type": "markdown",
   "metadata": {},
   "source": [
    "## Loop -  While"
   ]
  },
  {
   "cell_type": "code",
   "execution_count": 12,
   "metadata": {},
   "outputs": [
    {
     "name": "stdout",
     "output_type": "stream",
     "text": [
      "qual o seu nome? jose\n",
      "qual o seu nome? paulo\n",
      "qual o seu nome? rael\n",
      "qual o seu nome? claudio\n"
     ]
    }
   ],
   "source": [
    "x = 0\n",
    "\n",
    "while x < 4:\n",
    "    nome = input('qual o seu nome? ')\n",
    "    x += 1\n",
    "    "
   ]
  },
  {
   "cell_type": "code",
   "execution_count": 13,
   "metadata": {},
   "outputs": [
    {
     "name": "stdout",
     "output_type": "stream",
     "text": [
      "qual o seu nome? jose\n",
      "qual o seu nome? rael\n",
      "qual o seu nome? paula\n",
      "qual o seu nome? karla\n",
      "['jose', 'rael', 'paula', 'karla']\n"
     ]
    }
   ],
   "source": [
    "# inserindo uma lista vazia onde será guardado o nome\n",
    "\n",
    "x = 0\n",
    "\n",
    "pessoas = []\n",
    "\n",
    "while x < 4:\n",
    "    nome = input('qual o seu nome? ')\n",
    "    pessoas.append(nome)\n",
    "    x +=1\n",
    "    \n",
    "print(pessoas)"
   ]
  },
  {
   "cell_type": "code",
   "execution_count": 14,
   "metadata": {},
   "outputs": [
    {
     "name": "stdout",
     "output_type": "stream",
     "text": [
      "qual o seu nome? joao\n",
      "[]\n"
     ]
    }
   ],
   "source": [
    "# inserindo uma condicional de nome que encerra o loop, no caso tem um 'break' que encerra a sequência\n",
    "\n",
    "x = 0\n",
    "\n",
    "pessoas = []\n",
    "\n",
    "while x < 4:\n",
    "    nome = input('qual o seu nome? ')\n",
    "    if nome == 'joao':\n",
    "        break\n",
    "    pessoas.append(nome)\n",
    "    x += 1\n",
    "    \n",
    "print(pessoas)\n"
   ]
  },
  {
   "cell_type": "markdown",
   "metadata": {},
   "source": [
    "## Loop - For"
   ]
  },
  {
   "cell_type": "code",
   "execution_count": null,
   "metadata": {},
   "outputs": [],
   "source": []
  },
  {
   "cell_type": "code",
   "execution_count": null,
   "metadata": {},
   "outputs": [],
   "source": []
  }
 ],
 "metadata": {
  "kernelspec": {
   "display_name": "Python 3",
   "language": "python",
   "name": "python3"
  },
  "language_info": {
   "codemirror_mode": {
    "name": "ipython",
    "version": 3
   },
   "file_extension": ".py",
   "mimetype": "text/x-python",
   "name": "python",
   "nbconvert_exporter": "python",
   "pygments_lexer": "ipython3",
   "version": "3.8.5"
  }
 },
 "nbformat": 4,
 "nbformat_minor": 4
}
