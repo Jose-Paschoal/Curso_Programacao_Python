{
 "cells": [
  {
   "cell_type": "markdown",
   "metadata": {},
   "source": [
    "# Validação de Dados"
   ]
  },
  {
   "cell_type": "code",
   "execution_count": 1,
   "metadata": {},
   "outputs": [
    {
     "name": "stdout",
     "output_type": "stream",
     "text": [
      "digite o nome do produto: lapis\n",
      "digite o preco do produto: 10\n",
      "deseja comprar mais algum produto? (S ou N)n\n",
      "lapis - 10.0\n",
      "O total da fatura é:  10.0\n"
     ]
    }
   ],
   "source": [
    "# agora valos validar os dados inseridos no campo preço, para ipedir que um número com 'virgula' ou uma string digitada\n",
    "# causa algum problema no andamento do programa.\n",
    "# fazendo teste se o preço é maior ou não do que 0 para continuar.\n",
    "\n",
    "repetir ='s'\n",
    "fatura = []\n",
    "total = 0\n",
    "valid_preco = False\n",
    "\n",
    "while repetir == 's' :\n",
    "    produto = input('digite o nome do produto: ')\n",
    "    \n",
    "    while valid_preco == False:\n",
    "        preco = input('digite o preco do produto: ')\n",
    "        try:\n",
    "            preco = float(preco)\n",
    "            if preco <= 0:\n",
    "                print('O preço precisa ser maior que zero')\n",
    "            else:\n",
    "                valid_preco = True\n",
    "        except:\n",
    "            print(\"Formato de preço inválido. Use apenas número e separe os centavos com '.'.\")\n",
    "    \n",
    "    fatura.append([produto, preco])\n",
    "    total += preco\n",
    "    valid_preco = False\n",
    "    repetir = input('deseja comprar mais algum produto? (S ou N)').lower()\n",
    "    \n",
    "for i in fatura:\n",
    "    print(i[0], '-', i[1])\n",
    "    \n",
    "print('O total da fatura é: ', total)"
   ]
  },
  {
   "cell_type": "markdown",
   "metadata": {},
   "source": [
    "## Exercício de Validação de Dados - Média do Aluno"
   ]
  },
  {
   "cell_type": "code",
   "execution_count": 3,
   "metadata": {},
   "outputs": [
    {
     "ename": "KeyboardInterrupt",
     "evalue": "Interrupted by user",
     "output_type": "error",
     "traceback": [
      "\u001b[1;31m---------------------------------------------------------------------------\u001b[0m",
      "\u001b[1;31mKeyboardInterrupt\u001b[0m                         Traceback (most recent call last)",
      "\u001b[1;32m<ipython-input-3-ab7315f9ad39>\u001b[0m in \u001b[0;36m<module>\u001b[1;34m\u001b[0m\n\u001b[0;32m      3\u001b[0m \u001b[1;31m# inserindo um valid_nota\u001b[0m\u001b[1;33m\u001b[0m\u001b[1;33m\u001b[0m\u001b[1;33m\u001b[0m\u001b[0m\n\u001b[0;32m      4\u001b[0m \u001b[1;33m\u001b[0m\u001b[0m\n\u001b[1;32m----> 5\u001b[1;33m \u001b[0mnome\u001b[0m \u001b[1;33m=\u001b[0m \u001b[0minput\u001b[0m\u001b[1;33m(\u001b[0m\u001b[1;34m'Digite o nome do aluno: '\u001b[0m\u001b[1;33m)\u001b[0m\u001b[1;33m\u001b[0m\u001b[1;33m\u001b[0m\u001b[0m\n\u001b[0m\u001b[0;32m      6\u001b[0m \u001b[1;33m\u001b[0m\u001b[0m\n\u001b[0;32m      7\u001b[0m \u001b[0mvalid_nota\u001b[0m \u001b[1;33m=\u001b[0m \u001b[1;32mFalse\u001b[0m\u001b[1;33m\u001b[0m\u001b[1;33m\u001b[0m\u001b[0m\n",
      "\u001b[1;32m~\\anaconda3\\lib\\site-packages\\ipykernel\\kernelbase.py\u001b[0m in \u001b[0;36mraw_input\u001b[1;34m(self, prompt)\u001b[0m\n\u001b[0;32m    858\u001b[0m                 \u001b[1;34m\"raw_input was called, but this frontend does not support input requests.\"\u001b[0m\u001b[1;33m\u001b[0m\u001b[1;33m\u001b[0m\u001b[0m\n\u001b[0;32m    859\u001b[0m             )\n\u001b[1;32m--> 860\u001b[1;33m         return self._input_request(str(prompt),\n\u001b[0m\u001b[0;32m    861\u001b[0m             \u001b[0mself\u001b[0m\u001b[1;33m.\u001b[0m\u001b[0m_parent_ident\u001b[0m\u001b[1;33m,\u001b[0m\u001b[1;33m\u001b[0m\u001b[1;33m\u001b[0m\u001b[0m\n\u001b[0;32m    862\u001b[0m             \u001b[0mself\u001b[0m\u001b[1;33m.\u001b[0m\u001b[0m_parent_header\u001b[0m\u001b[1;33m,\u001b[0m\u001b[1;33m\u001b[0m\u001b[1;33m\u001b[0m\u001b[0m\n",
      "\u001b[1;32m~\\anaconda3\\lib\\site-packages\\ipykernel\\kernelbase.py\u001b[0m in \u001b[0;36m_input_request\u001b[1;34m(self, prompt, ident, parent, password)\u001b[0m\n\u001b[0;32m    902\u001b[0m             \u001b[1;32mexcept\u001b[0m \u001b[0mKeyboardInterrupt\u001b[0m\u001b[1;33m:\u001b[0m\u001b[1;33m\u001b[0m\u001b[1;33m\u001b[0m\u001b[0m\n\u001b[0;32m    903\u001b[0m                 \u001b[1;31m# re-raise KeyboardInterrupt, to truncate traceback\u001b[0m\u001b[1;33m\u001b[0m\u001b[1;33m\u001b[0m\u001b[1;33m\u001b[0m\u001b[0m\n\u001b[1;32m--> 904\u001b[1;33m                 \u001b[1;32mraise\u001b[0m \u001b[0mKeyboardInterrupt\u001b[0m\u001b[1;33m(\u001b[0m\u001b[1;34m\"Interrupted by user\"\u001b[0m\u001b[1;33m)\u001b[0m \u001b[1;32mfrom\u001b[0m \u001b[1;32mNone\u001b[0m\u001b[1;33m\u001b[0m\u001b[1;33m\u001b[0m\u001b[0m\n\u001b[0m\u001b[0;32m    905\u001b[0m             \u001b[1;32mexcept\u001b[0m \u001b[0mException\u001b[0m \u001b[1;32mas\u001b[0m \u001b[0me\u001b[0m\u001b[1;33m:\u001b[0m\u001b[1;33m\u001b[0m\u001b[1;33m\u001b[0m\u001b[0m\n\u001b[0;32m    906\u001b[0m                 \u001b[0mself\u001b[0m\u001b[1;33m.\u001b[0m\u001b[0mlog\u001b[0m\u001b[1;33m.\u001b[0m\u001b[0mwarning\u001b[0m\u001b[1;33m(\u001b[0m\u001b[1;34m\"Invalid Message:\"\u001b[0m\u001b[1;33m,\u001b[0m \u001b[0mexc_info\u001b[0m\u001b[1;33m=\u001b[0m\u001b[1;32mTrue\u001b[0m\u001b[1;33m)\u001b[0m\u001b[1;33m\u001b[0m\u001b[1;33m\u001b[0m\u001b[0m\n",
      "\u001b[1;31mKeyboardInterrupt\u001b[0m: Interrupted by user"
     ]
    }
   ],
   "source": [
    "# iremos reproduzir o exercício feito anteriormente sobre a média do aluno, agora inserindo validações dos dados\n",
    "# para impedir que erros possam ocasionar a interrupção abrupta do programa.\n",
    "# inserindo um valid_nota\n",
    "\n",
    "nome = input('Digite o nome do aluno: ')\n",
    "\n",
    "valid_nota = False\n",
    "while valid_nota == False:\n",
    "    nota1 = input('Digite a nota da prova 1: ')\n",
    "    try:\n",
    "        nota1: float(nota1)\n",
    "        if nota1 < 0 or nota1 > 10:\n",
    "            print('Nota inválida. Valor deve ser entre 0 e 10')\n",
    "        else:\n",
    "            valid_nota = True\n",
    "    except:\n",
    "        print('Nota inválida. Use apenas números e separe os decimais com ponto. (Ex. 9.5)')\n",
    "        \n",
    "valid_nota = False\n",
    "while valid_nota == False:\n",
    "    nota2 = input('Digite a nota da prova 2: ')\n",
    "    try:\n",
    "        nota2: float(nota1)\n",
    "        if nota2 < 0 or nota2 > 10:\n",
    "            print('Nota inválida. Valor deve ser entre 0 e 10')\n",
    "        else:\n",
    "            valid_nota = True\n",
    "    except:\n",
    "        print('Nota inválida. Use apenas números e separe os decimais com ponto. (Ex. 9.5)')\n",
    "        \n",
    "valid_faltas = False\n",
    "while valid_faltas == False:\n",
    "    faltas = input('Digite o total de faltas: ')\n",
    "    try:\n",
    "        faltas = float(faltas)\n",
    "        if faltas < 0 or faltas > 20:\n",
    "            print('Número de faltas inválido. Número deve ser entre 0 e 20')\n",
    "        else:\n",
    "            valid_faltas = True\n",
    "    except:\n",
    "        print('Número de faltas inválido. Use apenas números e sepre os decimais com ponto. (Ex. 15.5)')\n",
    "        \n",
    "\n",
    "media = (nota1 + nota2)/2\n",
    "\n",
    "assid = (20 - faltas)/20\n",
    "\n",
    "if media >= 6 and assid >= 0.7:\n",
    "    resultado = 'Aprovado'\n",
    "    \n",
    "elif media < 6 and assid < 0.7:\n",
    "    resultado = 'Reprovado por média e por faltas'\n",
    "    \n",
    "elif media < 6:\n",
    "    resultado = 'Reprovado por média'\n",
    "    \n",
    "elif assid < 0.7:\n",
    "    resultado = 'Reprovado por faltas'\n",
    "    \n",
    "else:\n",
    "    print('Erro')\n",
    "    \n",
    "print('Nome : ', nome)\n",
    "print('Média: ', media)\n",
    "print('Assiduidade: ', assid)\n",
    "print('Resultado: ', resultado)"
   ]
  },
  {
   "cell_type": "code",
   "execution_count": null,
   "metadata": {},
   "outputs": [],
   "source": []
  }
 ],
 "metadata": {
  "kernelspec": {
   "display_name": "Python 3",
   "language": "python",
   "name": "python3"
  },
  "language_info": {
   "codemirror_mode": {
    "name": "ipython",
    "version": 3
   },
   "file_extension": ".py",
   "mimetype": "text/x-python",
   "name": "python",
   "nbconvert_exporter": "python",
   "pygments_lexer": "ipython3",
   "version": "3.8.5"
  }
 },
 "nbformat": 4,
 "nbformat_minor": 4
}
