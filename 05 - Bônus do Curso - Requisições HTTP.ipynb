{
 "cells": [
  {
   "cell_type": "markdown",
   "metadata": {},
   "source": [
    "# Montar um APP de Previsão do Tempo"
   ]
  },
  {
   "cell_type": "code",
   "execution_count": 1,
   "metadata": {},
   "outputs": [
    {
     "name": "stdout",
     "output_type": "stream",
     "text": [
      "Requirement already satisfied: requests in c:\\users\\pasch\\anaconda3\\lib\\site-packages (2.24.0)\n",
      "Requirement already satisfied: idna<3,>=2.5 in c:\\users\\pasch\\anaconda3\\lib\\site-packages (from requests) (2.5)\n",
      "Requirement already satisfied: certifi>=2017.4.17 in c:\\users\\pasch\\anaconda3\\lib\\site-packages (from requests) (2020.12.5)\n",
      "Requirement already satisfied: chardet<4,>=3.0.2 in c:\\users\\pasch\\anaconda3\\lib\\site-packages (from requests) (3.0.4)\n",
      "Requirement already satisfied: urllib3!=1.25.0,!=1.25.1,<1.26,>=1.21.1 in c:\\users\\pasch\\anaconda3\\lib\\site-packages (from requests) (1.21.1)\n"
     ]
    }
   ],
   "source": [
    "#!pip install requests"
   ]
  },
  {
   "cell_type": "code",
   "execution_count": 2,
   "metadata": {},
   "outputs": [
    {
     "name": "stdout",
     "output_type": "stream",
     "text": [
      "Collecting pip"
     ]
    },
    {
     "name": "stderr",
     "output_type": "stream",
     "text": [
      "ERROR: Could not install packages due to an EnvironmentError: [WinError 5] Acesso negado: 'C:\\\\Users\\\\pasch\\\\AppData\\\\Local\\\\Temp\\\\pip-uninstall-u_o5girz\\\\pip.exe'\n",
      "Consider using the `--user` option or check the permissions.\n",
      "\n"
     ]
    },
    {
     "name": "stdout",
     "output_type": "stream",
     "text": [
      "\n",
      "  Downloading pip-21.3.1-py3-none-any.whl (1.7 MB)\n",
      "Installing collected packages: pip\n",
      "  Attempting uninstall: pip\n",
      "    Found existing installation: pip 20.2.4\n",
      "    Uninstalling pip-20.2.4:\n",
      "      Successfully uninstalled pip-20.2.4\n"
     ]
    }
   ],
   "source": [
    "#!pip install --upgrade pip"
   ]
  },
  {
   "cell_type": "code",
   "execution_count": 4,
   "metadata": {},
   "outputs": [
    {
     "name": "stdout",
     "output_type": "stream",
     "text": [
      "Requirement already satisfied: pandas in c:\\users\\pasch\\anaconda3\\lib\\site-packages (1.1.3)\n",
      "Collecting pandas\n",
      "  Downloading pandas-1.3.5-cp38-cp38-win_amd64.whl (10.2 MB)\n",
      "Requirement already satisfied: numpy>=1.17.3 in c:\\users\\pasch\\anaconda3\\lib\\site-packages (from pandas) (1.19.2)\n",
      "Requirement already satisfied: python-dateutil>=2.7.3 in c:\\users\\pasch\\anaconda3\\lib\\site-packages (from pandas) (2.8.1)\n",
      "Requirement already satisfied: pytz>=2017.3 in c:\\users\\pasch\\anaconda3\\lib\\site-packages (from pandas) (2020.1)\n",
      "Requirement already satisfied: six>=1.5 in c:\\users\\pasch\\anaconda3\\lib\\site-packages (from python-dateutil>=2.7.3->pandas) (1.15.0)\n",
      "Installing collected packages: pandas\n",
      "  Attempting uninstall: pandas\n",
      "    Found existing installation: pandas 1.1.3\n",
      "    Uninstalling pandas-1.1.3:\n",
      "      Successfully uninstalled pandas-1.1.3\n",
      "Successfully installed pandas-1.3.5\n"
     ]
    }
   ],
   "source": [
    "#!pip install --upgrade pandas"
   ]
  },
  {
   "cell_type": "code",
   "execution_count": 10,
   "metadata": {},
   "outputs": [],
   "source": [
    "import requests"
   ]
  },
  {
   "cell_type": "code",
   "execution_count": 6,
   "metadata": {},
   "outputs": [
    {
     "data": {
      "text/plain": [
       "200"
      ]
     },
     "execution_count": 6,
     "metadata": {},
     "output_type": "execute_result"
    }
   ],
   "source": [
    "r = requests.get('https://www.google.com')\n",
    "\n",
    "r.status_code"
   ]
  },
  {
   "cell_type": "code",
   "execution_count": 7,
   "metadata": {},
   "outputs": [
    {
     "data": {
      "text/plain": [
       "{'Date': 'Sat, 25 Dec 2021 19:09:26 GMT', 'Expires': '-1', 'Cache-Control': 'private, max-age=0', 'Content-Type': 'text/html; charset=ISO-8859-1', 'P3P': 'CP=\"This is not a P3P policy! See g.co/p3phelp for more info.\"', 'Content-Encoding': 'gzip', 'Server': 'gws', 'X-XSS-Protection': '0', 'X-Frame-Options': 'SAMEORIGIN', 'Set-Cookie': '1P_JAR=2021-12-25-19; expires=Mon, 24-Jan-2022 19:09:26 GMT; path=/; domain=.google.com; Secure, NID=511=BzyaNxXmiDfPe0pP_XRNbg2pC4BB3kUAJP_Vjkxptl-KmHRL1Pn5alJAQl2HIioXlCnqFmhg0SAkhNYOWWRyYupxOuTVXe6EMn3sgesEFeTXOEKJlurzlYKv1fu9WfZtU32nWzgz0wN1UYhnv61rOdVkHi0oWdEM00YtRmsTp2s; expires=Sun, 26-Jun-2022 19:09:26 GMT; path=/; domain=.google.com; HttpOnly', 'Alt-Svc': 'h3=\":443\"; ma=2592000,h3-29=\":443\"; ma=2592000,h3-Q050=\":443\"; ma=2592000,h3-Q046=\":443\"; ma=2592000,h3-Q043=\":443\"; ma=2592000,quic=\":443\"; ma=2592000; v=\"46,43\"', 'Transfer-Encoding': 'chunked'}"
      ]
     },
     "execution_count": 7,
     "metadata": {},
     "output_type": "execute_result"
    }
   ],
   "source": [
    "r.headers"
   ]
  },
  {
   "cell_type": "code",
   "execution_count": 13,
   "metadata": {},
   "outputs": [
    {
     "name": "stdout",
     "output_type": "stream",
     "text": [
      "{\n",
      "  \"geoplugin_request\":\"177.205.17.107\",\n",
      "  \"geoplugin_status\":200,\n",
      "  \"geoplugin_delay\":\"1ms\",\n",
      "  \"geoplugin_credit\":\"Some of the returned data includes GeoLite data created by MaxMind, available from <a href='http:\\/\\/www.maxmind.com'>http:\\/\\/www.maxmind.com<\\/a>.\",\n",
      "  \"geoplugin_city\":\"Campinas\",\n",
      "  \"geoplugin_region\":\"Sao Paulo\",\n",
      "  \"geoplugin_regionCode\":\"SP\",\n",
      "  \"geoplugin_regionName\":\"Sao Paulo\",\n",
      "  \"geoplugin_areaCode\":\"\",\n",
      "  \"geoplugin_dmaCode\":\"\",\n",
      "  \"geoplugin_countryCode\":\"BR\",\n",
      "  \"geoplugin_countryName\":\"Brazil\",\n",
      "  \"geoplugin_inEU\":0,\n",
      "  \"geoplugin_euVATrate\":false,\n",
      "  \"geoplugin_continentCode\":\"SA\",\n",
      "  \"geoplugin_continentName\":\"South America\",\n",
      "  \"geoplugin_latitude\":\"-22.897\",\n",
      "  \"geoplugin_longitude\":\"-47.0444\",\n",
      "  \"geoplugin_locationAccuracyRadius\":\"100\",\n",
      "  \"geoplugin_timezone\":\"America\\/Sao_Paulo\",\n",
      "  \"geoplugin_currencyCode\":\"BRL\",\n",
      "  \"geoplugin_currencySymbol\":\"R$\",\n",
      "  \"geoplugin_currencySymbol_UTF8\":\"R$\",\n",
      "  \"geoplugin_currencyConverter\":5.6749\n",
      "}\n"
     ]
    }
   ],
   "source": [
    "# requisição de API - localização - 1a arte será fazer uma requisição da localização do usuário automaticamente\n",
    "\n",
    "r = requests.get('http://www.geoplugin.net/json.gp')\n",
    "\n",
    "if (r.status_code != 200):\n",
    "    print('Não Foi possível obter a localização.')\n",
    "else:\n",
    "    print(r.text)"
   ]
  },
  {
   "cell_type": "code",
   "execution_count": null,
   "metadata": {},
   "outputs": [],
   "source": []
  }
 ],
 "metadata": {
  "kernelspec": {
   "display_name": "Python 3",
   "language": "python",
   "name": "python3"
  },
  "language_info": {
   "codemirror_mode": {
    "name": "ipython",
    "version": 3
   },
   "file_extension": ".py",
   "mimetype": "text/x-python",
   "name": "python",
   "nbconvert_exporter": "python",
   "pygments_lexer": "ipython3",
   "version": "3.8.5"
  }
 },
 "nbformat": 4,
 "nbformat_minor": 4
}
