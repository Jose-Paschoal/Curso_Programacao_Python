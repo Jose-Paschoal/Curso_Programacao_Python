{
 "cells": [
  {
   "cell_type": "markdown",
   "metadata": {},
   "source": [
    "# Funções"
   ]
  },
  {
   "cell_type": "markdown",
   "metadata": {},
   "source": [
    "### Formas de organizar melhor os códigos"
   ]
  },
  {
   "cell_type": "code",
   "execution_count": 2,
   "metadata": {},
   "outputs": [
    {
     "name": "stdout",
     "output_type": "stream",
     "text": [
      "Seja bem vindo\n"
     ]
    }
   ],
   "source": [
    "def mensagem():\n",
    "    print('Seja bem vindo')\n",
    "\n",
    "mensagem()"
   ]
  },
  {
   "cell_type": "code",
   "execution_count": 3,
   "metadata": {},
   "outputs": [],
   "source": [
    "user = 'jose'"
   ]
  },
  {
   "cell_type": "code",
   "execution_count": 6,
   "metadata": {},
   "outputs": [],
   "source": [
    "def mensagem(nome):\n",
    "    print('Seja bem vindo'  +  nome)"
   ]
  },
  {
   "cell_type": "code",
   "execution_count": 8,
   "metadata": {},
   "outputs": [
    {
     "name": "stdout",
     "output_type": "stream",
     "text": [
      "Seja bem vindo jose\n"
     ]
    }
   ],
   "source": [
    "mensagem(' jose')"
   ]
  },
  {
   "cell_type": "code",
   "execution_count": 15,
   "metadata": {},
   "outputs": [],
   "source": [
    "# redefinindo a função\n",
    "\n",
    "def mensagem(nome):\n",
    "    print('Olá' + nome.title() + '.')\n"
   ]
  },
  {
   "cell_type": "code",
   "execution_count": 17,
   "metadata": {},
   "outputs": [
    {
     "name": "stdout",
     "output_type": "stream",
     "text": [
      "OláJose.\n"
     ]
    }
   ],
   "source": [
    "mensagem( user)"
   ]
  },
  {
   "cell_type": "code",
   "execution_count": 1,
   "metadata": {},
   "outputs": [],
   "source": [
    "## criando uma função que faça o IMC\n",
    "\n",
    "def imc(peso, altura):\n",
    "    valor_imc = peso / (altura*altura)\n",
    "    print(valor_imc)"
   ]
  },
  {
   "cell_type": "code",
   "execution_count": 2,
   "metadata": {},
   "outputs": [
    {
     "name": "stdout",
     "output_type": "stream",
     "text": [
      "28.11634349030471\n"
     ]
    }
   ],
   "source": [
    "imc(101.5,1.90)"
   ]
  },
  {
   "cell_type": "code",
   "execution_count": 3,
   "metadata": {},
   "outputs": [],
   "source": [
    "## querendo saber se o IMC calculado é bom ou não\n",
    "\n",
    "# como usar os valores calculados em uma variavel:\n",
    "\n",
    "def imc(peso, altura):\n",
    "    valor_imc = peso / (altura*altura)\n",
    "    return(valor_imc)"
   ]
  },
  {
   "cell_type": "code",
   "execution_count": 4,
   "metadata": {},
   "outputs": [
    {
     "name": "stdout",
     "output_type": "stream",
     "text": [
      "ainda não está obeso\n"
     ]
    }
   ],
   "source": [
    "if imc(101.5,1.90) > 32:\n",
    "    print('obesidade')\n",
    "else:\n",
    "    print('ainda não está obeso')"
   ]
  },
  {
   "cell_type": "markdown",
   "metadata": {},
   "source": [
    "## Exercício de Funções - Cálculo de IMC e Classificação"
   ]
  },
  {
   "cell_type": "code",
   "execution_count": 11,
   "metadata": {},
   "outputs": [
    {
     "name": "stdout",
     "output_type": "stream",
     "text": [
      "Vamos calcular o seu imc?\n",
      "Digite o seu sexo (M ou F): m\n",
      "Digite o peso (ex. 68.5): 101\n",
      "Digite a altura (ex. 1.70): 1.9\n",
      "O seu IMC é:  27.97\n",
      "A sua classificação é:  Acima do peso ideal\n"
     ]
    }
   ],
   "source": [
    "def imc(peso,altura):\n",
    "    imc = peso / (altura*altura)\n",
    "    return imc\n",
    "\n",
    "def class_imc(sexo,peso,altura):\n",
    "    valor_imc = imc(peso, altura)\n",
    "    \n",
    "    if sexo == 'm':\n",
    "        if valor_imc < 20.7:\n",
    "            return 'Abaixo do peso'\n",
    "        elif valor_imc >= 20.7 and valor_imc < 26.4:\n",
    "            return \"Peso normal\"\n",
    "        elif valor_imc >= 26.4 and valor_imc < 27.8:\n",
    "            return \"Um pouco acima do peso\"\n",
    "        elif valor_imc >= 27.8 and valor_imc < 31.1:\n",
    "            return \"Acima do peso ideal\"\n",
    "        elif valor_imc >= 31.1:\n",
    "            return \"Obesidade\"\n",
    "        else: \n",
    "            return 'Erro de cálculo. Entre em contato com o administrador.'\n",
    "    \n",
    "    if sexo == 'f':\n",
    "        if valor_imc < 19.1:\n",
    "            return 'Abaixo do peso'\n",
    "        elif valor_imc >= 19.1 and valor_imc < 25.8:\n",
    "            return \"Peso normal\"\n",
    "        elif valor_imc >= 25.8 and valor_imc < 27.3:\n",
    "            return \"Um pouco acima do peso\"\n",
    "        elif valor_imc >= 27.3 and valor_imc < 32.3:\n",
    "            return \"Acima do peso ideal\"\n",
    "        elif valor_imc >= 32.3:\n",
    "            return \"Obesidade\"\n",
    "        else: \n",
    "            return 'Erro de cálculo. Entre em contato com o administrador.'\n",
    "    \n",
    "\n",
    "\n",
    "print('Vamos calcular o seu imc?')\n",
    "\n",
    "valid_sexo =  False\n",
    "while valid_sexo == False:\n",
    "    sexo = input(\"Digite o seu sexo (M ou F): \").lower()\n",
    "    if sexo != 'm' and sexo != 'f':\n",
    "        print('Sexo inválido. Digite M ou F.')\n",
    "        \n",
    "    else:\n",
    "        valid_sexo = True\n",
    "        \n",
    "valid_peso = False\n",
    "while valid_peso ==  False:\n",
    "    peso = input('Digite o peso (ex. 68.5): ')\n",
    "    try:\n",
    "        peso = float(peso)\n",
    "        if peso <= 0 or peso > 350:\n",
    "            print('Peso inválido. Número não pode ser zero ou negativo e deve ser inferior a 350.')\n",
    "        else:\n",
    "            valid_peso = True    \n",
    "    except:\n",
    "        print('Peso inválido. Use apenas números e separe os decimais com ponto.')\n",
    "        \n",
    "valid_altura = False\n",
    "while valid_altura ==  False:\n",
    "    altura = input('Digite a altura (ex. 1.70): ')\n",
    "    try:\n",
    "        altura = float(altura)\n",
    "        if altura <= 0 or altura > 3:\n",
    "            print('Altura inválida. Número não pode ser zero ou negativo e deve ser inferior a 3 metros.')\n",
    "        else:\n",
    "            valid_altura = True    \n",
    "    except:\n",
    "        print('Altura inválida. Use apenas números e separe os decimais com ponto.')\n",
    "        \n",
    "        \n",
    "v_imc = str(imc(peso,altura))\n",
    "\n",
    "c_imc = class_imc(sexo,peso,altura)\n",
    "\n",
    "print('O seu IMC é: ',v_imc[0:5])\n",
    "print('A sua classificação é: ',c_imc)\n",
    "        "
   ]
  },
  {
   "cell_type": "code",
   "execution_count": null,
   "metadata": {},
   "outputs": [],
   "source": []
  }
 ],
 "metadata": {
  "kernelspec": {
   "display_name": "Python 3",
   "language": "python",
   "name": "python3"
  },
  "language_info": {
   "codemirror_mode": {
    "name": "ipython",
    "version": 3
   },
   "file_extension": ".py",
   "mimetype": "text/x-python",
   "name": "python",
   "nbconvert_exporter": "python",
   "pygments_lexer": "ipython3",
   "version": "3.8.5"
  }
 },
 "nbformat": 4,
 "nbformat_minor": 4
}
